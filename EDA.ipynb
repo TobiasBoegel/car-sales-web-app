{
 "cells": [
  {
   "cell_type": "code",
   "execution_count": 2,
   "id": "5c587b80-983f-4dff-b304-7787fca054ca",
   "metadata": {},
   "outputs": [],
   "source": [
    "# Importing core data manipulation and analysis library\n",
    "import pandas as pd  # For handling and analyzing data\n",
    "\n",
    "# Importing a web application framework to create interactive apps\n",
    "import streamlit as st  # For building the web interface\n",
    "\n",
    "# Importing libraries for data visualization\n",
    "import plotly.express as px  # For creating interactive plots\n",
    "import altair as alt  # For advanced, declarative visualizations\n",
    "\n",
    "# Importing basic Python modules\n",
    "import numpy as np  # For numerical operations and handling arrays\n",
    "import matplotlib.pyplot as plt  # For basic plotting (optional, if needed)\n",
    "\n",
    "# Additional utility imports (optional based on future needs)\n",
    "import os  # For interacting with the operating system\n",
    "import datetime  # For handling date and time data\n"
   ]
  },
  {
   "cell_type": "code",
   "execution_count": 8,
   "id": "549f9ef9-3cce-4809-b680-041a503a7239",
   "metadata": {},
   "outputs": [
    {
     "name": "stdout",
     "output_type": "stream",
     "text": [
      "/Users/tobiasboegel/vehicles_us.csv\n"
     ]
    }
   ],
   "source": [
    "# finding the file path\n",
    "file_path = os.path.abspath('vehicles_us.csv')\n",
    "print(file_path)"
   ]
  },
  {
   "cell_type": "code",
   "execution_count": 20,
   "id": "a124557b-d0ef-4f71-aa93-5a72b9859f64",
   "metadata": {},
   "outputs": [
    {
     "name": "stdout",
     "output_type": "stream",
     "text": [
      "<class 'pandas.core.frame.DataFrame'>\n",
      "RangeIndex: 51525 entries, 0 to 51524\n",
      "Data columns (total 13 columns):\n",
      " #   Column        Non-Null Count  Dtype  \n",
      "---  ------        --------------  -----  \n",
      " 0   price         51525 non-null  int64  \n",
      " 1   model_year    47906 non-null  float64\n",
      " 2   model         51525 non-null  object \n",
      " 3   condition     51525 non-null  object \n",
      " 4   cylinders     46265 non-null  float64\n",
      " 5   fuel          51525 non-null  object \n",
      " 6   odometer      43633 non-null  float64\n",
      " 7   transmission  51525 non-null  object \n",
      " 8   type          51525 non-null  object \n",
      " 9   paint_color   42258 non-null  object \n",
      " 10  is_4wd        25572 non-null  float64\n",
      " 11  date_posted   51525 non-null  object \n",
      " 12  days_listed   51525 non-null  int64  \n",
      "dtypes: float64(4), int64(2), object(7)\n",
      "memory usage: 5.1+ MB\n",
      "None\n",
      "   price  model_year           model  condition  cylinders fuel  odometer  \\\n",
      "0   9400      2011.0          bmw x5       good        6.0  gas  145000.0   \n",
      "1  25500         NaN      ford f-150       good        6.0  gas   88705.0   \n",
      "2   5500      2013.0  hyundai sonata   like new        4.0  gas  110000.0   \n",
      "3   1500      2003.0      ford f-150       fair        8.0  gas       NaN   \n",
      "4  14900      2017.0    chrysler 200  excellent        4.0  gas   80903.0   \n",
      "\n",
      "  transmission    type paint_color  is_4wd date_posted  days_listed  \n",
      "0    automatic     SUV         NaN     1.0  2018-06-23           19  \n",
      "1    automatic  pickup       white     1.0  2018-10-19           50  \n",
      "2    automatic   sedan         red     NaN  2019-02-07           79  \n",
      "3    automatic  pickup         NaN     NaN  2019-03-22            9  \n",
      "4    automatic   sedan       black     NaN  2019-04-02           28  \n"
     ]
    }
   ],
   "source": [
    "# creating a data frame to work with\n",
    "df = pd.read_csv('/Users/tobiasboegel/Downloads/vehicles_us.csv')  # Ensure the file path is correct\n",
    "print(df.info())\n",
    "print(df.head())  # Changed from df.header() to df.head() to display the first few rows"
   ]
  },
  {
   "cell_type": "markdown",
   "id": "54eb6da9-4aa4-4ee6-9efc-38ba12900932",
   "metadata": {},
   "source": [
    "Summary of Missing Values:\n",
    "1) model_year: Missing in 3,619 entries.\n",
    "2) cylinders: Missing in 5,260 entries.\n",
    "3) odometer: Missing in 7,892 entries.\n",
    "4) paint_color: Missing in 9,267 entries.\n",
    "5) is_4wd: Missing in 25,953 entries (almost half the dataset).\n",
    "\n",
    "Needs Adjustment:\n",
    "1) model_year: Currently float64, should be converted to Int64 or int after filling missing values.\n",
    "2) date_posted: Convert from object to datetime format for date-based analysis."
   ]
  },
  {
   "cell_type": "code",
   "execution_count": 23,
   "id": "fa13eacc-2626-442b-bdd8-9629b0c7ccd0",
   "metadata": {},
   "outputs": [
    {
     "name": "stderr",
     "output_type": "stream",
     "text": [
      "/var/folders/1d/d750cms91xqcm7ppcynx1bnc0000gn/T/ipykernel_87511/3720364001.py:3: FutureWarning: A value is trying to be set on a copy of a DataFrame or Series through chained assignment using an inplace method.\n",
      "The behavior will change in pandas 3.0. This inplace method will never work because the intermediate object on which we are setting values always behaves as a copy.\n",
      "\n",
      "For example, when doing 'df[col].method(value, inplace=True)', try using 'df.method({col: value}, inplace=True)' or df[col] = df[col].method(value) instead, to perform the operation inplace on the original object.\n",
      "\n",
      "\n",
      "  df['model_year'].fillna(median_model_year, inplace=True)\n",
      "2024-11-03 14:29:35.724 \n",
      "  \u001b[33m\u001b[1mWarning:\u001b[0m to view this Streamlit app on a browser, run it with the following\n",
      "  command:\n",
      "\n",
      "    streamlit run /opt/anaconda3/lib/python3.12/site-packages/ipykernel_launcher.py [ARGUMENTS]\n"
     ]
    },
    {
     "name": "stdout",
     "output_type": "stream",
     "text": [
      "<class 'pandas.core.frame.DataFrame'>\n",
      "RangeIndex: 51525 entries, 0 to 51524\n",
      "Data columns (total 13 columns):\n",
      " #   Column        Non-Null Count  Dtype         \n",
      "---  ------        --------------  -----         \n",
      " 0   price         51525 non-null  int64         \n",
      " 1   model_year    51525 non-null  int64         \n",
      " 2   model         51525 non-null  object        \n",
      " 3   condition     51525 non-null  object        \n",
      " 4   cylinders     51525 non-null  float64       \n",
      " 5   fuel          51525 non-null  object        \n",
      " 6   odometer      51525 non-null  float64       \n",
      " 7   transmission  51525 non-null  object        \n",
      " 8   type          51525 non-null  object        \n",
      " 9   paint_color   51525 non-null  object        \n",
      " 10  is_4wd        51525 non-null  int64         \n",
      " 11  date_posted   51525 non-null  datetime64[ns]\n",
      " 12  days_listed   51525 non-null  int64         \n",
      "dtypes: datetime64[ns](1), float64(2), int64(4), object(6)\n",
      "memory usage: 5.1+ MB\n"
     ]
    },
    {
     "name": "stderr",
     "output_type": "stream",
     "text": [
      "/var/folders/1d/d750cms91xqcm7ppcynx1bnc0000gn/T/ipykernel_87511/3720364001.py:11: FutureWarning: A value is trying to be set on a copy of a DataFrame or Series through chained assignment using an inplace method.\n",
      "The behavior will change in pandas 3.0. This inplace method will never work because the intermediate object on which we are setting values always behaves as a copy.\n",
      "\n",
      "For example, when doing 'df[col].method(value, inplace=True)', try using 'df.method({col: value}, inplace=True)' or df[col] = df[col].method(value) instead, to perform the operation inplace on the original object.\n",
      "\n",
      "\n",
      "  df['cylinders'].fillna(median_cylinders, inplace=True)\n",
      "/var/folders/1d/d750cms91xqcm7ppcynx1bnc0000gn/T/ipykernel_87511/3720364001.py:16: FutureWarning: A value is trying to be set on a copy of a DataFrame or Series through chained assignment using an inplace method.\n",
      "The behavior will change in pandas 3.0. This inplace method will never work because the intermediate object on which we are setting values always behaves as a copy.\n",
      "\n",
      "For example, when doing 'df[col].method(value, inplace=True)', try using 'df.method({col: value}, inplace=True)' or df[col] = df[col].method(value) instead, to perform the operation inplace on the original object.\n",
      "\n",
      "\n",
      "  df['odometer'].fillna(median_odometer, inplace=True)\n",
      "/var/folders/1d/d750cms91xqcm7ppcynx1bnc0000gn/T/ipykernel_87511/3720364001.py:24: FutureWarning: A value is trying to be set on a copy of a DataFrame or Series through chained assignment using an inplace method.\n",
      "The behavior will change in pandas 3.0. This inplace method will never work because the intermediate object on which we are setting values always behaves as a copy.\n",
      "\n",
      "For example, when doing 'df[col].method(value, inplace=True)', try using 'df.method({col: value}, inplace=True)' or df[col] = df[col].method(value) instead, to perform the operation inplace on the original object.\n",
      "\n",
      "\n",
      "  df['paint_color'].fillna('unknown', inplace=True)\n",
      "/var/folders/1d/d750cms91xqcm7ppcynx1bnc0000gn/T/ipykernel_87511/3720364001.py:28: FutureWarning: A value is trying to be set on a copy of a DataFrame or Series through chained assignment using an inplace method.\n",
      "The behavior will change in pandas 3.0. This inplace method will never work because the intermediate object on which we are setting values always behaves as a copy.\n",
      "\n",
      "For example, when doing 'df[col].method(value, inplace=True)', try using 'df.method({col: value}, inplace=True)' or df[col] = df[col].method(value) instead, to perform the operation inplace on the original object.\n",
      "\n",
      "\n",
      "  df['is_4wd'].fillna(0, inplace=True)\n"
     ]
    }
   ],
   "source": [
    "# Fill missing 'model_year' with the median value\n",
    "median_model_year = df['model_year'].median()\n",
    "df['model_year'].fillna(median_model_year, inplace=True)\n",
    "st.write(f\"Filled missing 'model_year' with median: {median_model_year}\")\n",
    "\n",
    "# Convert 'model_year' to an integer type after filling missing values\n",
    "df['model_year'] = df['model_year'].astype(int)\n",
    "\n",
    "# Fill missing 'cylinders' with the median\n",
    "median_cylinders = df['cylinders'].median()\n",
    "df['cylinders'].fillna(median_cylinders, inplace=True)\n",
    "st.write(f\"Filled missing 'cylinders' with median: {median_cylinders}\")\n",
    "\n",
    "# Fill missing 'odometer' with the median or remove rows if needed\n",
    "median_odometer = df['odometer'].median()\n",
    "df['odometer'].fillna(median_odometer, inplace=True)\n",
    "st.write(f\"Filled missing 'odometer' with median: {median_odometer}\")\n",
    "\n",
    "# Convert 'date_posted' to datetime format\n",
    "df['date_posted'] = pd.to_datetime(df['date_posted'])\n",
    "st.write(\"Converted 'date_posted' to datetime format.\")\n",
    "\n",
    "# Fill missing 'paint_color' with 'unknown' to keep categorical data intact\n",
    "df['paint_color'].fillna('unknown', inplace=True)\n",
    "st.write(\"Filled missing 'paint_color' with 'unknown'.\")\n",
    "\n",
    "# Replace NaNs in 'is_4wd' with 0 (assuming missing means not 4WD)\n",
    "df['is_4wd'].fillna(0, inplace=True)\n",
    "df['is_4wd'] = df['is_4wd'].astype(int)\n",
    "st.write(\"Replaced missing 'is_4wd' values with 0 and converted to integer.\")\n",
    "\n",
    "# Display updated DataFrame info\n",
    "st.write(\"#### Updated DataFrame Info:\")\n",
    "st.write(df.info())\n"
   ]
  },
  {
   "cell_type": "markdown",
   "id": "f3f502fe-7454-412b-b3a5-ec546ba2db27",
   "metadata": {},
   "source": [
    "Feature Engineering:\n",
    "1) Adding a new column for car_age to simplify age-related analysis\n",
    "2) Creating an indicator for common or rare models, if necessary"
   ]
  },
  {
   "cell_type": "code",
   "execution_count": 29,
   "id": "4cba31df-3c7a-43e2-869d-7f2c5e57a4cb",
   "metadata": {},
   "outputs": [
    {
     "name": "stdout",
     "output_type": "stream",
     "text": [
      "<class 'pandas.core.frame.DataFrame'>\n",
      "RangeIndex: 51525 entries, 0 to 51524\n",
      "Data columns (total 14 columns):\n",
      " #   Column        Non-Null Count  Dtype         \n",
      "---  ------        --------------  -----         \n",
      " 0   price         51525 non-null  int64         \n",
      " 1   model_year    51525 non-null  int64         \n",
      " 2   model         51525 non-null  object        \n",
      " 3   condition     51525 non-null  object        \n",
      " 4   cylinders     51525 non-null  float64       \n",
      " 5   fuel          51525 non-null  object        \n",
      " 6   odometer      51525 non-null  float64       \n",
      " 7   transmission  51525 non-null  object        \n",
      " 8   type          51525 non-null  object        \n",
      " 9   paint_color   51525 non-null  object        \n",
      " 10  is_4wd        51525 non-null  int64         \n",
      " 11  date_posted   51525 non-null  datetime64[ns]\n",
      " 12  days_listed   51525 non-null  int64         \n",
      " 13  car_age       51525 non-null  int64         \n",
      "dtypes: datetime64[ns](1), float64(2), int64(5), object(6)\n",
      "memory usage: 5.5+ MB\n",
      "None\n",
      "       price  model_year                    model condition  cylinders fuel  \\\n",
      "44429  48000        2016        cadillac escalade  like new        8.0  gas   \n",
      "48480  18800        2011        cadillac escalade      good        8.0  gas   \n",
      "36642   2650        2011  chrysler town & country      good        6.0  gas   \n",
      "36025  14990        2007            toyota tacoma      good        6.0  gas   \n",
      "48805   5400        2011        chevrolet equinox  like new        6.0  gas   \n",
      "\n",
      "       odometer transmission      type paint_color  is_4wd date_posted  \\\n",
      "44429   28500.0    automatic       SUV        grey       1  2018-09-22   \n",
      "48480  102255.0    automatic       SUV       black       0  2019-01-09   \n",
      "36642  115000.0    automatic  mini-van     unknown       0  2018-07-04   \n",
      "36025  165757.0    automatic     truck      silver       0  2018-05-30   \n",
      "48805  124000.0    automatic       SUV     unknown       0  2018-06-18   \n",
      "\n",
      "       days_listed  car_age  \n",
      "44429           30        3  \n",
      "48480           29        8  \n",
      "36642           22        8  \n",
      "36025            7       12  \n",
      "48805           76        8  \n"
     ]
    }
   ],
   "source": [
    "# Feature: Car age based on the model year\n",
    "current_year = df['date_posted'].dt.year.max()\n",
    "df['car_age'] = current_year - df['model_year']\n",
    "st.write(\"Added 'car_age' column.\")\n",
    "\n",
    "print(df.info())\n",
    "print(df.sample(5))"
   ]
  },
  {
   "cell_type": "code",
   "execution_count": null,
   "id": "45cb139f-2202-4ce4-ad28-1eae52ceed3c",
   "metadata": {},
   "outputs": [],
   "source": []
  }
 ],
 "metadata": {
  "kernelspec": {
   "display_name": "Python 3 (ipykernel)",
   "language": "python",
   "name": "python3"
  },
  "language_info": {
   "codemirror_mode": {
    "name": "ipython",
    "version": 3
   },
   "file_extension": ".py",
   "mimetype": "text/x-python",
   "name": "python",
   "nbconvert_exporter": "python",
   "pygments_lexer": "ipython3",
   "version": "3.12.7"
  }
 },
 "nbformat": 4,
 "nbformat_minor": 5
}
